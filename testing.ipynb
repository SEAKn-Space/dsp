{
 "cells": [
  {
   "cell_type": "code",
   "execution_count": 22,
   "metadata": {},
   "outputs": [
    {
     "name": "stdout",
     "output_type": "stream",
     "text": [
      "(420240, 2)\n",
      "[[-2.8870930e-04+0.j  1.9478353e-04+0.j]\n",
      " [ 4.9208355e-04+0.j  2.8940974e-04+0.j]\n",
      " [ 7.0059410e-05+0.j -7.0478732e-04+0.j]\n",
      " [-7.5896876e-04+0.j -8.6331274e-06+0.j]\n",
      " [ 1.0763919e-03+0.j  5.9004221e-04+0.j]\n",
      " [-5.5667688e-04+0.j -1.2067882e-03+0.j]\n",
      " [-3.6907999e-04+0.j  3.8645082e-04+0.j]\n",
      " [ 7.6740707e-04+0.j  3.6379966e-04+0.j]\n",
      " [-7.2217418e-04+0.j -6.0488423e-04+0.j]\n",
      " [ 1.7282635e-04+0.j  8.4123760e-04+0.j]]\n"
     ]
    },
    {
     "ename": "ValueError",
     "evalue": "setting an array element with a sequence. The requested array has an inhomogeneous shape after 1 dimensions. The detected shape was (3284,) + inhomogeneous part.",
     "output_type": "error",
     "traceback": [
      "\u001b[0;31m---------------------------------------------------------------------------\u001b[0m",
      "\u001b[0;31mValueError\u001b[0m                                Traceback (most recent call last)",
      "Cell \u001b[0;32mIn[22], line 23\u001b[0m\n\u001b[1;32m     20\u001b[0m     grouped_samples\u001b[38;5;241m.\u001b[39mappend(sample)\n\u001b[1;32m     22\u001b[0m \u001b[38;5;66;03m# Save the grouped samples\u001b[39;00m\n\u001b[0;32m---> 23\u001b[0m \u001b[43mnp\u001b[49m\u001b[38;5;241;43m.\u001b[39;49m\u001b[43msave\u001b[49m\u001b[43m(\u001b[49m\u001b[38;5;124;43m'\u001b[39;49m\u001b[38;5;124;43mgrouped_samples.npy\u001b[39;49m\u001b[38;5;124;43m'\u001b[39;49m\u001b[43m,\u001b[49m\u001b[43m \u001b[49m\u001b[43mgrouped_samples\u001b[49m\u001b[43m)\u001b[49m\n",
      "File \u001b[0;32m~/Library/Python/3.9/lib/python/site-packages/numpy/lib/npyio.py:545\u001b[0m, in \u001b[0;36msave\u001b[0;34m(file, arr, allow_pickle, fix_imports)\u001b[0m\n\u001b[1;32m    542\u001b[0m     file_ctx \u001b[38;5;241m=\u001b[39m \u001b[38;5;28mopen\u001b[39m(file, \u001b[38;5;124m\"\u001b[39m\u001b[38;5;124mwb\u001b[39m\u001b[38;5;124m\"\u001b[39m)\n\u001b[1;32m    544\u001b[0m \u001b[38;5;28;01mwith\u001b[39;00m file_ctx \u001b[38;5;28;01mas\u001b[39;00m fid:\n\u001b[0;32m--> 545\u001b[0m     arr \u001b[38;5;241m=\u001b[39m \u001b[43mnp\u001b[49m\u001b[38;5;241;43m.\u001b[39;49m\u001b[43masanyarray\u001b[49m\u001b[43m(\u001b[49m\u001b[43marr\u001b[49m\u001b[43m)\u001b[49m\n\u001b[1;32m    546\u001b[0m     \u001b[38;5;28mformat\u001b[39m\u001b[38;5;241m.\u001b[39mwrite_array(fid, arr, allow_pickle\u001b[38;5;241m=\u001b[39mallow_pickle,\n\u001b[1;32m    547\u001b[0m                        pickle_kwargs\u001b[38;5;241m=\u001b[39m\u001b[38;5;28mdict\u001b[39m(fix_imports\u001b[38;5;241m=\u001b[39mfix_imports))\n",
      "\u001b[0;31mValueError\u001b[0m: setting an array element with a sequence. The requested array has an inhomogeneous shape after 1 dimensions. The detected shape was (3284,) + inhomogeneous part."
     ]
    }
   ],
   "source": [
    "import numpy as np\n",
    "import pickle\n",
    "\n",
    "# Load the numpy file with allow_pickle=True \n",
    "data = np.fromfile('bpsk_32K', dtype=np.complex64)\n",
    "# Reshape the data into a 2D array\n",
    "data = data.reshape(-1, 2)\n",
    "# display the shape of the data\n",
    "print(data.shape)\n",
    "# display the first 10 samples\n",
    "print(data[:10])\n",
    "\n",
    "# Get the number of samples\n",
    "num_samples = len(data)\n",
    "\n",
    "# Group the real and imaginary components into 128 long samples\n",
    "grouped_samples = []\n",
    "for i in range(0, num_samples, 128):\n",
    "    sample = data[i:i+128]\n",
    "    grouped_samples.append(sample)\n",
    "\n",
    "# Save the grouped samples\n",
    "np.save('grouped_samples.npy', grouped_samples)"
   ]
  }
 ],
 "metadata": {
  "kernelspec": {
   "display_name": "Python 3",
   "language": "python",
   "name": "python3"
  },
  "language_info": {
   "codemirror_mode": {
    "name": "ipython",
    "version": 3
   },
   "file_extension": ".py",
   "mimetype": "text/x-python",
   "name": "python",
   "nbconvert_exporter": "python",
   "pygments_lexer": "ipython3",
   "version": "3.9.6"
  }
 },
 "nbformat": 4,
 "nbformat_minor": 2
}
