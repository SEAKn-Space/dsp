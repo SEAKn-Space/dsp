{
 "cells": [
  {
   "cell_type": "code",
   "execution_count": 4,
   "id": "61956280",
   "metadata": {},
   "outputs": [
    {
     "name": "stdout",
     "output_type": "stream",
     "text": [
      "(2000, 2, 128)\n",
      "Epoch 1/10\n",
      "50/50 [==============================] - 3s 18ms/step - loss: 0.6816 - accuracy: 0.5656\n",
      "Epoch 2/10\n",
      "50/50 [==============================] - 1s 18ms/step - loss: 0.5983 - accuracy: 0.6850\n",
      "Epoch 3/10\n",
      "50/50 [==============================] - 1s 17ms/step - loss: 0.5098 - accuracy: 0.7406\n",
      "Epoch 4/10\n",
      "50/50 [==============================] - 1s 18ms/step - loss: 0.2930 - accuracy: 0.8906\n",
      "Epoch 5/10\n",
      "50/50 [==============================] - 1s 18ms/step - loss: 0.1222 - accuracy: 0.9631\n",
      "Epoch 6/10\n",
      "50/50 [==============================] - 1s 18ms/step - loss: 0.0850 - accuracy: 0.9675\n",
      "Epoch 7/10\n",
      "50/50 [==============================] - 1s 17ms/step - loss: 0.0642 - accuracy: 0.9794\n",
      "Epoch 8/10\n",
      "50/50 [==============================] - 1s 18ms/step - loss: 0.0418 - accuracy: 0.9881\n",
      "Epoch 9/10\n",
      "50/50 [==============================] - 1s 18ms/step - loss: 0.0430 - accuracy: 0.9862\n",
      "Epoch 10/10\n",
      "50/50 [==============================] - 1s 18ms/step - loss: 0.0317 - accuracy: 0.9906\n",
      "13/13 [==============================] - 1s 8ms/step - loss: 0.0413 - accuracy: 0.9825\n",
      "Test Loss: 0.041296154260635376 \n",
      "Test Accuracy: 0.9825000166893005\n"
     ]
    }
   ],
   "source": [
    "import tensorflow as tf\n",
    "from tensorflow.keras.utils import to_categorical\n",
    "from sklearn.model_selection import train_test_split\n",
    "import pandas as pd\n",
    "import numpy as np\n",
    "import pickle as pkl\n",
    "from sklearn.preprocessing import StandardScaler\n",
    "\n",
    "# load data\n",
    "#data = pd.read_pickle(\"RML2016.10a_dict.pkl\", compression='infer')\n",
    "data = pd.read_pickle(\"C:\\\\Users\\\\calla\\\\OneDrive\\\\AI_MODULATION\\\\RML2016.10a\\\\RML2016.10a_dict.pkl\", compression='infer')\n",
    "qpsk_2_data_all = data[('QPSK', 2)]\n",
    "bpsk_2_data_all = data[('BPSK', 2)]\n",
    "\n",
    "# labels\n",
    "qpsk_labels = [0] * 1000  # QPSK = 0\n",
    "bpsk_labels = [1] * 1000  # BPSK = 1\n",
    "\n",
    "# combine the data lables\n",
    "data_combined = np.concatenate((qpsk_2_data_all, bpsk_2_data_all), axis=0)\n",
    "\n",
    "print(data_combined.shape)\n",
    "\n",
    "# combine the data lables\n",
    "data_combined = np.concatenate((qpsk_2_data_all, bpsk_2_data_all), axis=0)\n",
    "\n",
    "labels_combined = qpsk_labels + bpsk_labels\n",
    "\n",
    "# convert labels to NumPy array and then to PyTorch tensor with Long data type\n",
    "labels_combined = np.array(labels_combined, dtype=np.int64)\n",
    "\n",
    "# Scale data\n",
    "data = np.array(data_combined, dtype=np.float32)\n",
    "labels = np.array(labels_combined, dtype=np.float32)\n",
    "\n",
    "# calculate min and max values\n",
    "min_vals = np.min(data, axis=(1,2), keepdims=True)\n",
    "max_vals = np.max(data, axis=(1,2), keepdims=True)\n",
    "\n",
    "# normalize data\n",
    "epsilon = 1e-10\n",
    "normalized_data = 2 * (data - min_vals) / (max_vals - min_vals + epsilon) - 1\n",
    "\n",
    "# Create training data\n",
    "X_train, X_test, y_train, y_test = train_test_split(\n",
    "    normalized_data, labels, test_size=.2, random_state=42)\n",
    "\n",
    "# create the model\n",
    "model = tf.keras.Sequential([\n",
    "    tf.keras.layers.Input(shape=(2, 128)),  # Transpose the shape to (None, 128, 2)\n",
    "    tf.keras.layers.Permute((2, 1)),  # Transpose the input data\n",
    "    tf.keras.layers.Conv1D(filters=64, kernel_size=3, strides=1, padding='same', activation='relu'),\n",
    "    tf.keras.layers.MaxPool1D(pool_size=2, strides=2, padding='same'),\n",
    "    tf.keras.layers.Conv1D(filters=64, kernel_size=3, strides=1, padding='same', activation='relu'),\n",
    "    tf.keras.layers.MaxPool1D(pool_size=2, strides=2, padding='same'),\n",
    "    tf.keras.layers.Conv1D(filters=64, kernel_size=3, strides=1, padding='same', activation='relu'),\n",
    "    tf.keras.layers.MaxPool1D(pool_size=2, strides=2, padding='same'),\n",
    "    tf.keras.layers.Flatten(),\n",
    "    tf.keras.layers.Dense(2, activation='softmax')\n",
    "])\n",
    "\n",
    "# compile the model\n",
    "model.compile(optimizer='adam', loss='categorical_crossentropy', metrics=['accuracy'])\n",
    "\n",
    "# train the model\n",
    "epochs = 10\n",
    "model.fit(X_train, to_categorical(y_train), epochs=epochs)\n",
    "\n",
    "# evaluate the model\n",
    "results = model.evaluate(X_test, to_categorical(y_test))\n",
    "\n",
    "# print results\n",
    "print(f'Test Loss: {results[0]} \\nTest Accuracy: {results[1]}')\n"
   ]
  },
  {
   "cell_type": "code",
   "execution_count": 6,
   "id": "fbbc09fd-7737-4f56-a1d6-8859f2b263ce",
   "metadata": {},
   "outputs": [
    {
     "ename": "OSError",
     "evalue": "No file or directory found at model_tf",
     "output_type": "error",
     "traceback": [
      "\u001b[1;31m---------------------------------------------------------------------------\u001b[0m",
      "\u001b[1;31mOSError\u001b[0m                                   Traceback (most recent call last)",
      "Cell \u001b[1;32mIn[6], line 7\u001b[0m\n\u001b[0;32m      1\u001b[0m \u001b[38;5;28;01mfrom\u001b[39;00m \u001b[38;5;21;01mtensorflow\u001b[39;00m\u001b[38;5;21;01m.\u001b[39;00m\u001b[38;5;21;01mkeras\u001b[39;00m\u001b[38;5;21;01m.\u001b[39;00m\u001b[38;5;21;01mmodels\u001b[39;00m \u001b[38;5;28;01mimport\u001b[39;00m load_model\n\u001b[0;32m      3\u001b[0m \u001b[38;5;66;03m# Load a model from HDF5 file\u001b[39;00m\n\u001b[0;32m      4\u001b[0m \u001b[38;5;66;03m#model_h5 = load_model('model_h5_tf.h5')\u001b[39;00m\n\u001b[0;32m      5\u001b[0m \n\u001b[0;32m      6\u001b[0m \u001b[38;5;66;03m# Load a model from SavedModel format\u001b[39;00m\n\u001b[1;32m----> 7\u001b[0m model_saved_model \u001b[38;5;241m=\u001b[39m \u001b[43mload_model\u001b[49m\u001b[43m(\u001b[49m\u001b[38;5;124;43m'\u001b[39;49m\u001b[38;5;124;43mmodel_tf\u001b[39;49m\u001b[38;5;124;43m'\u001b[39;49m\u001b[43m)\u001b[49m\n",
      "File \u001b[1;32m~\\anaconda3\\lib\\site-packages\\keras\\src\\saving\\saving_api.py:238\u001b[0m, in \u001b[0;36mload_model\u001b[1;34m(filepath, custom_objects, compile, safe_mode, **kwargs)\u001b[0m\n\u001b[0;32m    230\u001b[0m     \u001b[38;5;28;01mreturn\u001b[39;00m saving_lib\u001b[38;5;241m.\u001b[39mload_model(\n\u001b[0;32m    231\u001b[0m         filepath,\n\u001b[0;32m    232\u001b[0m         custom_objects\u001b[38;5;241m=\u001b[39mcustom_objects,\n\u001b[0;32m    233\u001b[0m         \u001b[38;5;28mcompile\u001b[39m\u001b[38;5;241m=\u001b[39m\u001b[38;5;28mcompile\u001b[39m,\n\u001b[0;32m    234\u001b[0m         safe_mode\u001b[38;5;241m=\u001b[39msafe_mode,\n\u001b[0;32m    235\u001b[0m     )\n\u001b[0;32m    237\u001b[0m \u001b[38;5;66;03m# Legacy case.\u001b[39;00m\n\u001b[1;32m--> 238\u001b[0m \u001b[38;5;28;01mreturn\u001b[39;00m legacy_sm_saving_lib\u001b[38;5;241m.\u001b[39mload_model(\n\u001b[0;32m    239\u001b[0m     filepath, custom_objects\u001b[38;5;241m=\u001b[39mcustom_objects, \u001b[38;5;28mcompile\u001b[39m\u001b[38;5;241m=\u001b[39m\u001b[38;5;28mcompile\u001b[39m, \u001b[38;5;241m*\u001b[39m\u001b[38;5;241m*\u001b[39mkwargs\n\u001b[0;32m    240\u001b[0m )\n",
      "File \u001b[1;32m~\\anaconda3\\lib\\site-packages\\keras\\src\\utils\\traceback_utils.py:70\u001b[0m, in \u001b[0;36mfilter_traceback.<locals>.error_handler\u001b[1;34m(*args, **kwargs)\u001b[0m\n\u001b[0;32m     67\u001b[0m     filtered_tb \u001b[38;5;241m=\u001b[39m _process_traceback_frames(e\u001b[38;5;241m.\u001b[39m__traceback__)\n\u001b[0;32m     68\u001b[0m     \u001b[38;5;66;03m# To get the full stack trace, call:\u001b[39;00m\n\u001b[0;32m     69\u001b[0m     \u001b[38;5;66;03m# `tf.debugging.disable_traceback_filtering()`\u001b[39;00m\n\u001b[1;32m---> 70\u001b[0m     \u001b[38;5;28;01mraise\u001b[39;00m e\u001b[38;5;241m.\u001b[39mwith_traceback(filtered_tb) \u001b[38;5;28;01mfrom\u001b[39;00m \u001b[38;5;28;01mNone\u001b[39;00m\n\u001b[0;32m     71\u001b[0m \u001b[38;5;28;01mfinally\u001b[39;00m:\n\u001b[0;32m     72\u001b[0m     \u001b[38;5;28;01mdel\u001b[39;00m filtered_tb\n",
      "File \u001b[1;32m~\\anaconda3\\lib\\site-packages\\keras\\src\\saving\\legacy\\save.py:234\u001b[0m, in \u001b[0;36mload_model\u001b[1;34m(filepath, custom_objects, compile, options)\u001b[0m\n\u001b[0;32m    232\u001b[0m \u001b[38;5;28;01mif\u001b[39;00m \u001b[38;5;28misinstance\u001b[39m(filepath_str, \u001b[38;5;28mstr\u001b[39m):\n\u001b[0;32m    233\u001b[0m     \u001b[38;5;28;01mif\u001b[39;00m \u001b[38;5;129;01mnot\u001b[39;00m tf\u001b[38;5;241m.\u001b[39mio\u001b[38;5;241m.\u001b[39mgfile\u001b[38;5;241m.\u001b[39mexists(filepath_str):\n\u001b[1;32m--> 234\u001b[0m         \u001b[38;5;28;01mraise\u001b[39;00m \u001b[38;5;167;01mIOError\u001b[39;00m(\n\u001b[0;32m    235\u001b[0m             \u001b[38;5;124mf\u001b[39m\u001b[38;5;124m\"\u001b[39m\u001b[38;5;124mNo file or directory found at \u001b[39m\u001b[38;5;132;01m{\u001b[39;00mfilepath_str\u001b[38;5;132;01m}\u001b[39;00m\u001b[38;5;124m\"\u001b[39m\n\u001b[0;32m    236\u001b[0m         )\n\u001b[0;32m    238\u001b[0m     \u001b[38;5;28;01mif\u001b[39;00m tf\u001b[38;5;241m.\u001b[39mio\u001b[38;5;241m.\u001b[39mgfile\u001b[38;5;241m.\u001b[39misdir(filepath_str):\n\u001b[0;32m    239\u001b[0m         \u001b[38;5;28;01mreturn\u001b[39;00m saved_model_load\u001b[38;5;241m.\u001b[39mload(\n\u001b[0;32m    240\u001b[0m             filepath_str, \u001b[38;5;28mcompile\u001b[39m, options\n\u001b[0;32m    241\u001b[0m         )\n",
      "\u001b[1;31mOSError\u001b[0m: No file or directory found at model_tf"
     ]
    }
   ],
   "source": [
    "from tensorflow.keras.models import load_model\n",
    "\n",
    "model.save('trained_model_h5_tf.h5')  # Save the model as \"model.h5\"\n",
    "model.save('trained_model_tf')  # This creates a folder \"my_model\" with the SavedModel\n"
   ]
  },
  {
   "cell_type": "code",
   "execution_count": null,
   "id": "34d3e2c5-f1c8-4442-baed-72e38d80e75e",
   "metadata": {},
   "outputs": [],
   "source": []
  }
 ],
 "metadata": {
  "kernelspec": {
   "display_name": "Python 3 (ipykernel)",
   "language": "python",
   "name": "python3"
  },
  "language_info": {
   "codemirror_mode": {
    "name": "ipython",
    "version": 3
   },
   "file_extension": ".py",
   "mimetype": "text/x-python",
   "name": "python",
   "nbconvert_exporter": "python",
   "pygments_lexer": "ipython3",
   "version": "3.9.18"
  }
 },
 "nbformat": 4,
 "nbformat_minor": 5
}
