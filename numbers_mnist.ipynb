{
 "cells": [
  {
   "cell_type": "code",
   "execution_count": 1,
   "metadata": {},
   "outputs": [
    {
     "name": "stdout",
     "output_type": "stream",
     "text": [
      "Epoch [1/5], Loss: 0.0819\n",
      "Epoch [2/5], Loss: 0.0844\n",
      "Epoch [3/5], Loss: 0.1049\n",
      "Epoch [4/5], Loss: 0.0061\n",
      "Epoch [5/5], Loss: 0.0391\n",
      "Accuracy of the network on the 10000 test images: 97.28 %\n"
     ]
    }
   ],
   "source": [
    "import torch\n",
    "import torch.nn as nn\n",
    "import torch.optim as optim\n",
    "from torchvision import datasets, transforms\n",
    "from torch.utils.data import DataLoader\n",
    "\n",
    "# Data loading\n",
    "transform = transforms.Compose([transforms.ToTensor(),\n",
    "                                transforms.Normalize((0.5,), (0.5,))])\n",
    "\n",
    "train_data = datasets.MNIST(root='./data', train=True, download=True, transform=transform)\n",
    "test_data = datasets.MNIST(root='./data', train=False, download=True, transform=transform)\n",
    "\n",
    "train_loader = DataLoader(train_data, batch_size=64, shuffle=True)\n",
    "test_loader = DataLoader(test_data, batch_size=64, shuffle=False)\n",
    "\n",
    "# Model definition\n",
    "class Net(nn.Module):\n",
    "    def __init__(self):\n",
    "        super(Net, self).__init__()\n",
    "        self.fc1 = nn.Linear(28*28, 512)\n",
    "        self.fc2 = nn.Linear(512, 256)\n",
    "        self.fc3 = nn.Linear(256, 10)\n",
    "    \n",
    "    def forward(self, x):\n",
    "        x = x.view(-1, 28*28)\n",
    "        x = torch.relu(self.fc1(x))\n",
    "        x = torch.relu(self.fc2(x))\n",
    "        x = self.fc3(x)\n",
    "        return x\n",
    "\n",
    "model = Net()\n",
    "\n",
    "\n",
    "def train(model):\n",
    "     #Loss and optimizer\n",
    "    criterion = nn.CrossEntropyLoss()\n",
    "    optimizer = optim.SGD(model.parameters(), lr=0.01, momentum=0.9)\n",
    "\n",
    "    # Training loop\n",
    "    num_epochs = 5\n",
    "    for epoch in range(num_epochs):\n",
    "        for images, labels in train_loader:\n",
    "            outputs = model(images)\n",
    "            loss = criterion(outputs, labels)\n",
    "\n",
    "            optimizer.zero_grad()\n",
    "            loss.backward()\n",
    "            optimizer.step()\n",
    "\n",
    "        print(f'Epoch [{epoch+1}/{num_epochs}], Loss: {loss.item():.4f}')\n",
    "    return model\n",
    "\n",
    "model = train(model)\n",
    "\n",
    "def evaluate(model):\n",
    "    # Evaluation\n",
    "    model.eval()\n",
    "    with torch.no_grad():\n",
    "        correct = 0\n",
    "        total = 0\n",
    "        for images, labels in test_loader:\n",
    "            outputs = model(images)\n",
    "            _, predicted = torch.max(outputs.data, 1)\n",
    "            total += labels.size(0)\n",
    "            correct += (predicted == labels).sum().item()\n",
    "\n",
    "        print(f'Accuracy of the network on the 10000 test images: {100 * correct / total} %')\n",
    "        \n",
    "evaluate(model)\n"
   ]
  },
  {
   "cell_type": "code",
   "execution_count": 11,
   "metadata": {},
   "outputs": [
    {
     "name": "stdout",
     "output_type": "stream",
     "text": [
      "\n",
      "\u001b[0;32m[VAIQ_NOTE]: Inspector is on.\u001b[0m\n",
      "\n",
      "\u001b[0;32m[VAIQ_NOTE]: =>Start to inspect model...\u001b[0m\n",
      "\n",
      "\u001b[0;32m[VAIQ_NOTE]: =>Quant Module is in 'cpu'.\u001b[0m\n",
      "\n",
      "\u001b[0;32m[VAIQ_NOTE]: =>Parsing Net...\u001b[0m\n",
      "\n",
      "\u001b[0;32m[VAIQ_NOTE]: Start to trace and freeze model...\u001b[0m\n",
      "\n",
      "\u001b[0;32m[VAIQ_NOTE]: The input model nndct_st_Net_ed is torch.nn.Module.\u001b[0m\n",
      "\n",
      "\u001b[0;32m[VAIQ_NOTE]: Finish tracing.\u001b[0m\n",
      "\n",
      "\u001b[0;32m[VAIQ_NOTE]: Processing ops...\u001b[0m\n"
     ]
    },
    {
     "name": "stderr",
     "output_type": "stream",
     "text": [
      "██████████████████████████████████████████████████| 8/8 [00:00<00:00, 3330.13it/s, OpInfo: name = return_0, type = Return]             "
     ]
    },
    {
     "name": "stdout",
     "output_type": "stream",
     "text": [
      "\n",
      "\u001b[0;32m[VAIQ_NOTE]: =>Doing weights equalization...\u001b[0m\n",
      "\n",
      "\u001b[0;32m[VAIQ_NOTE]: =>Quantizable module is generated.(inspect/Net.py)\u001b[0m\n",
      "\n",
      "\u001b[0;32m[VAIQ_NOTE]: Find subgraph for convlike_fix_18:\n",
      "node name:Net::Net/Linear[fc2]/ret.9, op type:nndct_dense, output shape: [1, 256]\n",
      "node name:Net::Net/ret.11, op type:nndct_relu, output shape: [1, 256]\n",
      "\n",
      "\u001b[0m\n",
      "\n",
      "\u001b[0;32m[VAIQ_NOTE]: Find subgraph for convlike_fix_18:\n",
      "node name:Net::Net/Linear[fc1]/ret.5, op type:nndct_dense, output shape: [1, 512]\n",
      "node name:Net::Net/ret.7, op type:nndct_relu, output shape: [1, 512]\n",
      "\n",
      "\u001b[0m\n",
      "\n",
      "\u001b[0;32m[VAIQ_NOTE]: Find subgraph for reshape_fix_1:\n",
      "node name:Net::Net/ret.3, op type:nndct_reshape, output shape: [1, 784]\n",
      "\n",
      "\u001b[0m\n",
      "\n",
      "\u001b[0;32m[VAIQ_NOTE]: Find subgraph for convlike_fix_20:\n",
      "node name:Net::Net/Linear[fc3]/ret, op type:nndct_dense, output shape: [1, 10]\n",
      "\n",
      "\u001b[0m\n",
      "\n",
      "\u001b[0;32m[VAIQ_NOTE]: The operators assigned to the CPU are as follows(see more details in 'inspect/inspect_DPUCVDX8G_ISA3_C32B6.txt'):\u001b[0m\n"
     ]
    },
    {
     "name": "stderr",
     "output_type": "stream",
     "text": [
      "\n",
      "I20240329 17:56:57.064254 168544 compile_pass_manager.cpp:352] [UNILOG][INFO] Compile mode: dpu\n",
      "I20240329 17:56:57.064272 168544 compile_pass_manager.cpp:353] [UNILOG][INFO] Debug mode: null\n",
      "I20240329 17:56:57.064276 168544 compile_pass_manager.cpp:357] [UNILOG][INFO] Target architecture: DPUCVDX8G_ISA3_C32B6\n",
      "I20240329 17:56:57.064335 168544 compile_pass_manager.cpp:465] [UNILOG][INFO] Graph name: nndct_dense_nndct_relu_HAyVkj65JnpKqxlY, with op num: 9\n",
      "I20240329 17:56:57.064339 168544 compile_pass_manager.cpp:478] [UNILOG][INFO] Begin to compile...\n",
      "I20240329 17:56:57.070897 168544 compile_pass_manager.cpp:489] [UNILOG][INFO] Total device subgraph number 3, DPU subgraph number 1\n",
      "I20240329 17:56:57.070916 168544 compile_pass_manager.cpp:504] [UNILOG][INFO] Compile done.\n",
      "I20240329 17:56:57.075683 168544 compile_pass_manager.cpp:352] [UNILOG][INFO] Compile mode: dpu\n",
      "I20240329 17:56:57.075695 168544 compile_pass_manager.cpp:353] [UNILOG][INFO] Debug mode: null\n",
      "I20240329 17:56:57.075699 168544 compile_pass_manager.cpp:357] [UNILOG][INFO] Target architecture: DPUCVDX8G_ISA3_C32B6\n",
      "I20240329 17:56:57.075757 168544 compile_pass_manager.cpp:465] [UNILOG][INFO] Graph name: nndct_dense_nndct_relu_gBaepqSsAcRKJ8bz, with op num: 9\n",
      "I20240329 17:56:57.075762 168544 compile_pass_manager.cpp:478] [UNILOG][INFO] Begin to compile...\n",
      "I20240329 17:56:57.088925 168544 compile_pass_manager.cpp:489] [UNILOG][INFO] Total device subgraph number 3, DPU subgraph number 1\n",
      "I20240329 17:56:57.088954 168544 compile_pass_manager.cpp:504] [UNILOG][INFO] Compile done.\n",
      "I20240329 17:56:57.092739 168544 compile_pass_manager.cpp:352] [UNILOG][INFO] Compile mode: dpu\n",
      "I20240329 17:56:57.092757 168544 compile_pass_manager.cpp:353] [UNILOG][INFO] Debug mode: null\n",
      "I20240329 17:56:57.092762 168544 compile_pass_manager.cpp:357] [UNILOG][INFO] Target architecture: DPUCVDX8G_ISA3_C32B6\n",
      "I20240329 17:56:57.092860 168544 compile_pass_manager.cpp:465] [UNILOG][INFO] Graph name: nndct_reshape_JCTRIKn78DbFUvzq, with op num: 7\n",
      "I20240329 17:56:57.092864 168544 compile_pass_manager.cpp:478] [UNILOG][INFO] Begin to compile...\n",
      "I20240329 17:56:57.094555 168544 compile_pass_manager.cpp:489] [UNILOG][INFO] Total device subgraph number 3, DPU subgraph number 1\n",
      "I20240329 17:56:57.094573 168544 compile_pass_manager.cpp:504] [UNILOG][INFO] Compile done.\n",
      "I20240329 17:56:57.099731 168544 compile_pass_manager.cpp:352] [UNILOG][INFO] Compile mode: dpu\n",
      "I20240329 17:56:57.099745 168544 compile_pass_manager.cpp:353] [UNILOG][INFO] Debug mode: null\n",
      "I20240329 17:56:57.099749 168544 compile_pass_manager.cpp:357] [UNILOG][INFO] Target architecture: DPUCVDX8G_ISA3_C32B6\n",
      "I20240329 17:56:57.099797 168544 compile_pass_manager.cpp:465] [UNILOG][INFO] Graph name: nndct_dense_T7EaUyD8pA69V0me, with op num: 8\n",
      "I20240329 17:56:57.099800 168544 compile_pass_manager.cpp:478] [UNILOG][INFO] Begin to compile...\n",
      "I20240329 17:56:57.103186 168544 compile_pass_manager.cpp:489] [UNILOG][INFO] Total device subgraph number 3, DPU subgraph number 1\n",
      "I20240329 17:56:57.103204 168544 compile_pass_manager.cpp:504] [UNILOG][INFO] Compile done.\n"
     ]
    },
    {
     "name": "stdout",
     "output_type": "stream",
     "text": [
      "node name       op Type        hardware constraints\n",
      "--------------  -------------  -----------------------------------\n",
      "Net::Net/ret.3  nndct_reshape  The input of reshape is not on DPU.\n",
      "\n",
      "\u001b[0;32m[VAIQ_NOTE]: =>Finish inspecting.\u001b[0m\n"
     ]
    }
   ],
   "source": [
    "from pytorch_nndct import Inspector\n",
    "\n",
    "target = \"DPUCVDX8G_ISA3_C32B6\"\n",
    "#DPUCVDX8G\n",
    "# Initialize inspector with target\n",
    "inspector = Inspector(target)\n",
    "# Note: visualization of inspection results relies on the dot engine.If you don't install dot successfully, set 'image_format = None' when inspecting.\n",
    "device = torch.device(\"cuda\" if torch.cuda.is_available() else \"cpu\")\n",
    "model = Net()\n",
    "\n",
    "#dummy_data, labels = train_loader\n",
    "#data_dummy = []\n",
    "\n",
    "dummy_input = torch.randn(28,28,1)\n",
    "\n",
    "inspector.inspect(model, dummy_input, device=device, output_dir=\"inspect\", image_format=None) "
   ]
  },
  {
   "cell_type": "code",
   "execution_count": null,
   "metadata": {},
   "outputs": [
    {
     "name": "stdout",
     "output_type": "stream",
     "text": [
      "\n",
      "\u001b[0;33m[VAIQ_WARN][QUANTIZER_TORCH_CUDA_UNAVAILABLE]: CUDA (HIP) is not available, change device to CPU\u001b[0m\n",
      "\n",
      "\u001b[0;32m[VAIQ_NOTE]: OS and CPU information:\n",
      "               system --- Linux\n",
      "                 node --- seakn-ThinkPad-P16s-Gen-1\n",
      "              release --- 6.5.0-26-generic\n",
      "              version --- #26~22.04.1-Ubuntu SMP PREEMPT_DYNAMIC Tue Mar 12 10:22:43 UTC 2\n",
      "              machine --- x86_64\n",
      "            processor --- x86_64\u001b[0m\n",
      "\n",
      "\u001b[0;32m[VAIQ_NOTE]: Tools version information:\n",
      "                  GCC --- GCC 7.5.0\n",
      "               python --- 3.8.6\n",
      "              pytorch --- 1.13.1\n",
      "        vai_q_pytorch --- 3.5.0+60df3f1+torch1.13.1\u001b[0m\n",
      "\n",
      "\u001b[0;33m[VAIQ_WARN][QUANTIZER_TORCH_CUDA_UNAVAILABLE]: CUDA (HIP) is not available, change device to CPU.\u001b[0m\n",
      "\n",
      "\u001b[0;32m[VAIQ_NOTE]: Quant config file is empty, use default quant configuration\u001b[0m\n",
      "\n",
      "\u001b[0;32m[VAIQ_NOTE]: Quantization calibration process start up...\u001b[0m\n",
      "\n",
      "\u001b[0;32m[VAIQ_NOTE]: =>Quant Module is in 'cpu'.\u001b[0m\n",
      "\n",
      "\u001b[0;32m[VAIQ_NOTE]: =>Parsing Net...\u001b[0m\n",
      "\n",
      "\u001b[0;32m[VAIQ_NOTE]: Start to trace and freeze model...\u001b[0m\n",
      "\n",
      "\u001b[0;32m[VAIQ_NOTE]: The input model nndct_st_Net_ed is torch.nn.Module.\u001b[0m\n",
      "\n",
      "\u001b[0;32m[VAIQ_NOTE]: Finish tracing.\u001b[0m\n",
      "\n",
      "\u001b[0;32m[VAIQ_NOTE]: Processing ops...\u001b[0m\n"
     ]
    },
    {
     "name": "stderr",
     "output_type": "stream",
     "text": [
      "██████████████████████████████████████████████████| 8/8 [00:00<00:00, 3276.16it/s, OpInfo: name = return_0, type = Return]             "
     ]
    },
    {
     "name": "stdout",
     "output_type": "stream",
     "text": [
      "\n",
      "\u001b[0;32m[VAIQ_NOTE]: =>Doing weights equalization...\u001b[0m\n",
      "\n",
      "\u001b[0;32m[VAIQ_NOTE]: =>Quantizable module is generated.(quantize_result/Net.py)\u001b[0m\n",
      "\n",
      "\u001b[0;32m[VAIQ_NOTE]: =>Get module with quantization.\u001b[0m\n"
     ]
    },
    {
     "name": "stderr",
     "output_type": "stream",
     "text": [
      "\n"
     ]
    }
   ],
   "source": [
    "import pytorch_nndct\n",
    "from pytorch_nndct.apis import torch_quantizer\n",
    "\n",
    "\n",
    "quantizer = torch_quantizer(\"calib\", model, dummy_input) #needs to be in test mode to generate x_model\n",
    "quant_model = quantizer.quant_model # is quantize aware\n",
    "qunat_model = train(quant_model)\n",
    "evaluate(quant_model)"
   ]
  },
  {
   "cell_type": "code",
   "execution_count": 10,
   "metadata": {},
   "outputs": [
    {
     "ename": "SystemExit",
     "evalue": "0",
     "output_type": "error",
     "traceback": [
      "\u001b[0;31m---------------------------------------------------------------------------\u001b[0m",
      "\u001b[0;31mSystemExit\u001b[0m                                Traceback (most recent call last)",
      "Cell \u001b[0;32mIn[9], line 5\u001b[0m\n\u001b[1;32m      1\u001b[0m \u001b[38;5;28;01mimport\u001b[39;00m \u001b[38;5;21;01mpytorch_nndct\u001b[39;00m\n\u001b[1;32m      2\u001b[0m \u001b[38;5;28;01mfrom\u001b[39;00m \u001b[38;5;21;01mpytorch_nndct\u001b[39;00m\u001b[38;5;21;01m.\u001b[39;00m\u001b[38;5;21;01mapis\u001b[39;00m \u001b[38;5;28;01mimport\u001b[39;00m torch_quantizer\n\u001b[0;32m----> 5\u001b[0m quantizer \u001b[38;5;241m=\u001b[39m \u001b[43mtorch_quantizer\u001b[49m\u001b[43m(\u001b[49m\u001b[38;5;124;43m\"\u001b[39;49m\u001b[38;5;124;43mtest\u001b[39;49m\u001b[38;5;124;43m\"\u001b[39;49m\u001b[43m,\u001b[49m\u001b[43m \u001b[49m\u001b[43mmodel\u001b[49m\u001b[43m,\u001b[49m\u001b[43m \u001b[49m\u001b[43mdummy_input\u001b[49m\u001b[43m)\u001b[49m \u001b[38;5;66;03m#needs to be in test mode to generate x_model\u001b[39;00m\n\u001b[1;32m      6\u001b[0m quant_model \u001b[38;5;241m=\u001b[39m quantizer\u001b[38;5;241m.\u001b[39mquant_model \u001b[38;5;66;03m# is quantize aware\u001b[39;00m\n\u001b[1;32m      7\u001b[0m qunat_model \u001b[38;5;241m=\u001b[39m train(quant_model)\n",
      "File \u001b[0;32m/opt/vitis_ai/conda/envs/vitis-ai-pytorch/lib/python3.8/site-packages/pytorch_nndct/apis.py:107\u001b[0m, in \u001b[0;36mtorch_quantizer.__init__\u001b[0;34m(self, quant_mode, module, input_args, input_kwargs, state_dict_file, output_dir, bitwidth, mix_bit, device, lstm, app_deploy, qat_proc, custom_quant_ops, quant_config_file, target, dynamo)\u001b[0m\n\u001b[1;32m     95\u001b[0m   \u001b[38;5;28mself\u001b[39m\u001b[38;5;241m.\u001b[39mprocessor \u001b[38;5;241m=\u001b[39m DynamoQuantProcessor(quant_mode\u001b[38;5;241m=\u001b[39mquant_mode, \n\u001b[1;32m     96\u001b[0m                                         module\u001b[38;5;241m=\u001b[39mmodule,\n\u001b[1;32m     97\u001b[0m                                         input_args\u001b[38;5;241m=\u001b[39minput_args,\n\u001b[0;32m   (...)\u001b[0m\n\u001b[1;32m    103\u001b[0m                                         quant_config_file\u001b[38;5;241m=\u001b[39mquant_config_file,\n\u001b[1;32m    104\u001b[0m                                         target\u001b[38;5;241m=\u001b[39mtarget) \n\u001b[1;32m    106\u001b[0m \u001b[38;5;28;01melse\u001b[39;00m:\n\u001b[0;32m--> 107\u001b[0m   \u001b[38;5;28mself\u001b[39m\u001b[38;5;241m.\u001b[39mprocessor \u001b[38;5;241m=\u001b[39m \u001b[43mTorchQuantProcessor\u001b[49m\u001b[43m(\u001b[49m\u001b[43mquant_mode\u001b[49m\u001b[43m \u001b[49m\u001b[38;5;241;43m=\u001b[39;49m\u001b[43m \u001b[49m\u001b[43mquant_mode\u001b[49m\u001b[43m,\u001b[49m\n\u001b[1;32m    108\u001b[0m \u001b[43m                                       \u001b[49m\u001b[43mmodule\u001b[49m\u001b[43m \u001b[49m\u001b[38;5;241;43m=\u001b[39;49m\u001b[43m \u001b[49m\u001b[43mmodule\u001b[49m\u001b[43m,\u001b[49m\n\u001b[1;32m    109\u001b[0m \u001b[43m                                       \u001b[49m\u001b[43minput_data\u001b[49m\u001b[43m \u001b[49m\u001b[38;5;241;43m=\u001b[39;49m\u001b[43m \u001b[49m\u001b[43minput_data\u001b[49m\u001b[43m,\u001b[49m\n\u001b[1;32m    110\u001b[0m \u001b[43m                                       \u001b[49m\u001b[43mstate_dict_file\u001b[49m\u001b[43m \u001b[49m\u001b[38;5;241;43m=\u001b[39;49m\u001b[43m \u001b[49m\u001b[43mstate_dict_file\u001b[49m\u001b[43m,\u001b[49m\n\u001b[1;32m    111\u001b[0m \u001b[43m                                       \u001b[49m\u001b[43moutput_dir\u001b[49m\u001b[43m \u001b[49m\u001b[38;5;241;43m=\u001b[39;49m\u001b[43m \u001b[49m\u001b[43moutput_dir\u001b[49m\u001b[43m,\u001b[49m\n\u001b[1;32m    112\u001b[0m \u001b[43m                                       \u001b[49m\u001b[43mbitwidth_w\u001b[49m\u001b[43m \u001b[49m\u001b[38;5;241;43m=\u001b[39;49m\u001b[43m \u001b[49m\u001b[43mbitwidth\u001b[49m\u001b[43m,\u001b[49m\n\u001b[1;32m    113\u001b[0m \u001b[43m                                       \u001b[49m\u001b[43mbitwidth_a\u001b[49m\u001b[43m \u001b[49m\u001b[38;5;241;43m=\u001b[39;49m\u001b[43m \u001b[49m\u001b[43mbitwidth\u001b[49m\u001b[43m,\u001b[49m\n\u001b[1;32m    114\u001b[0m \u001b[43m                                       \u001b[49m\u001b[43mdevice\u001b[49m\u001b[43m \u001b[49m\u001b[38;5;241;43m=\u001b[39;49m\u001b[43m \u001b[49m\u001b[43mdevice\u001b[49m\u001b[43m,\u001b[49m\n\u001b[1;32m    115\u001b[0m \u001b[43m                                       \u001b[49m\u001b[43mlstm_app\u001b[49m\u001b[43m \u001b[49m\u001b[38;5;241;43m=\u001b[39;49m\u001b[43m \u001b[49m\u001b[43mlstm_app\u001b[49m\u001b[43m,\u001b[49m\n\u001b[1;32m    116\u001b[0m \u001b[43m                                       \u001b[49m\u001b[43mcustom_quant_ops\u001b[49m\u001b[43m \u001b[49m\u001b[38;5;241;43m=\u001b[39;49m\u001b[43m \u001b[49m\u001b[43mcustom_quant_ops\u001b[49m\u001b[43m,\u001b[49m\n\u001b[1;32m    117\u001b[0m \u001b[43m                                       \u001b[49m\u001b[43mquant_config_file\u001b[49m\u001b[43m \u001b[49m\u001b[38;5;241;43m=\u001b[39;49m\u001b[43m \u001b[49m\u001b[43mquant_config_file\u001b[49m\u001b[43m,\u001b[49m\n\u001b[1;32m    118\u001b[0m \u001b[43m                                       \u001b[49m\u001b[43mtarget\u001b[49m\u001b[43m \u001b[49m\u001b[38;5;241;43m=\u001b[39;49m\u001b[43m \u001b[49m\u001b[43mtarget\u001b[49m\u001b[43m)\u001b[49m\n",
      "File \u001b[0;32m/opt/vitis_ai/conda/envs/vitis-ai-pytorch/lib/python3.8/site-packages/pytorch_nndct/qproc/base.py:194\u001b[0m, in \u001b[0;36mTorchQuantProcessor.__init__\u001b[0;34m(self, quant_mode, module, input_data, state_dict_file, output_dir, bitwidth_w, bitwidth_a, mix_bit, device, lstm_app, custom_quant_ops, quant_config_file, target)\u001b[0m\n\u001b[1;32m    192\u001b[0m   \u001b[38;5;28;01mif\u001b[39;00m target \u001b[38;5;129;01mis\u001b[39;00m \u001b[38;5;129;01mnot\u001b[39;00m \u001b[38;5;28;01mNone\u001b[39;00m \u001b[38;5;129;01mand\u001b[39;00m quant_config_file \u001b[38;5;129;01mis\u001b[39;00m \u001b[38;5;129;01mnot\u001b[39;00m \u001b[38;5;28;01mNone\u001b[39;00m:\n\u001b[1;32m    193\u001b[0m     NndctScreenLogger()\u001b[38;5;241m.\u001b[39mwarning2user(QWarning\u001b[38;5;241m.\u001b[39mHW_AWARE_QUANT, \u001b[38;5;124m\"\u001b[39m\u001b[38;5;124mThe hardware-aware quantization is turned off by quant_config_file.\u001b[39m\u001b[38;5;124m\"\u001b[39m)\n\u001b[0;32m--> 194\u001b[0m   \u001b[43mquantizer\u001b[49m\u001b[38;5;241;43m.\u001b[39;49m\u001b[43msetup\u001b[49m\u001b[43m(\u001b[49m\u001b[43mgraph\u001b[49m\u001b[43m,\u001b[49m\u001b[43m \u001b[49m\u001b[38;5;28;43;01mFalse\u001b[39;49;00m\u001b[43m,\u001b[49m\u001b[43m \u001b[49m\u001b[43mlstm_app\u001b[49m\u001b[43m,\u001b[49m\u001b[43m \u001b[49m\u001b[43mcustom_quant_ops\u001b[49m\u001b[38;5;241;43m=\u001b[39;49m\u001b[43mcustom_quant_ops\u001b[49m\u001b[43m)\u001b[49m\n\u001b[1;32m    195\u001b[0m \u001b[38;5;28;01melse\u001b[39;00m:\n\u001b[1;32m    196\u001b[0m   tmp_module \u001b[38;5;241m=\u001b[39m copy\u001b[38;5;241m.\u001b[39mdeepcopy(quant_module)\n",
      "File \u001b[0;32m/opt/vitis_ai/conda/envs/vitis-ai-pytorch/lib/python3.8/site-packages/nndct_shared/quantization/base_quantizer.py:119\u001b[0m, in \u001b[0;36mBaseQuantizer.setup\u001b[0;34m(self, nndct_graph, rnn_front_end, lstm, custom_quant_ops, target, dynamo)\u001b[0m\n\u001b[1;32m    115\u001b[0m   \u001b[38;5;28mself\u001b[39m\u001b[38;5;241m.\u001b[39minit_quant_config()\n\u001b[1;32m    116\u001b[0m \u001b[38;5;28;01mif\u001b[39;00m \u001b[38;5;28mself\u001b[39m\u001b[38;5;241m.\u001b[39mquant_mode \u001b[38;5;241m>\u001b[39m \u001b[38;5;241m1\u001b[39m:\n\u001b[1;32m    117\u001b[0m   \u001b[38;5;66;03m# param/output/input names \u001b[39;00m\n\u001b[0;32m--> 119\u001b[0m   \u001b[38;5;28;43mself\u001b[39;49m\u001b[38;5;241;43m.\u001b[39;49m\u001b[43mload_quant_config\u001b[49m\u001b[43m(\u001b[49m\u001b[43mdynamo\u001b[49m\u001b[38;5;241;43m=\u001b[39;49m\u001b[43mdynamo\u001b[49m\u001b[43m)\u001b[49m\n\u001b[1;32m    121\u001b[0m   \u001b[38;5;28;01mif\u001b[39;00m NndctOption\u001b[38;5;241m.\u001b[39mnndct_stat\u001b[38;5;241m.\u001b[39mvalue \u001b[38;5;241m>\u001b[39m \u001b[38;5;241m0\u001b[39m:\n\u001b[1;32m    122\u001b[0m     \u001b[38;5;28mprint\u001b[39m(\u001b[38;5;124m'\u001b[39m\u001b[38;5;124mLoaded quantization infos:\u001b[39m\u001b[38;5;124m'\u001b[39m)\n",
      "File \u001b[0;32m/opt/vitis_ai/conda/envs/vitis-ai-pytorch/lib/python3.8/site-packages/nndct_shared/quantization/base_quantizer.py:183\u001b[0m, in \u001b[0;36mBaseQuantizer.load_quant_config\u001b[0;34m(self, config, dynamo)\u001b[0m\n\u001b[1;32m    181\u001b[0m   exit(\u001b[38;5;241m2\u001b[39m)\n\u001b[1;32m    182\u001b[0m config \u001b[38;5;241m=\u001b[39m config \u001b[38;5;129;01mor\u001b[39;00m \u001b[38;5;28mself\u001b[39m\u001b[38;5;241m.\u001b[39mquant_file\n\u001b[0;32m--> 183\u001b[0m \u001b[38;5;28;01mreturn\u001b[39;00m \u001b[38;5;28;43mself\u001b[39;49m\u001b[38;5;241;43m.\u001b[39;49m\u001b[43mquant_config_imp\u001b[49m\u001b[38;5;241;43m.\u001b[39;49m\u001b[43mload_quant_config\u001b[49m\u001b[43m(\u001b[49m\u001b[43mconfig\u001b[49m\u001b[43m,\u001b[49m\u001b[43m \u001b[49m\u001b[38;5;28;43mself\u001b[39;49m\u001b[38;5;241;43m.\u001b[39;49m\u001b[43mNndctgraph\u001b[49m\u001b[43m,\u001b[49m\u001b[43m \u001b[49m\u001b[43mdynamo\u001b[49m\u001b[43m)\u001b[49m\n",
      "File \u001b[0;32m/opt/vitis_ai/conda/envs/vitis-ai-pytorch/lib/python3.8/site-packages/nndct_shared/quantization/quant_config_imp.py:195\u001b[0m, in \u001b[0;36mQuantConfigImpBase.load_quant_config\u001b[0;34m(self, config, graph, dynamo)\u001b[0m\n\u001b[1;32m    193\u001b[0m     \u001b[38;5;28;01mraise\u001b[39;00m \u001b[38;5;167;01mRuntimeError\u001b[39;00m()\n\u001b[1;32m    194\u001b[0m   \u001b[38;5;28;01melse\u001b[39;00m:\n\u001b[0;32m--> 195\u001b[0m     \u001b[43mNndctScreenLogger\u001b[49m\u001b[43m(\u001b[49m\u001b[43m)\u001b[49m\u001b[38;5;241;43m.\u001b[39;49m\u001b[43mcheck2user\u001b[49m\u001b[43m(\u001b[49m\u001b[43mQError\u001b[49m\u001b[38;5;241;43m.\u001b[39;49m\u001b[43mCALIB_RESULT_MISMATCH\u001b[49m\u001b[43m,\u001b[49m\n\u001b[1;32m    196\u001b[0m \u001b[43m        \u001b[49m\u001b[38;5;124;43mf\u001b[39;49m\u001b[38;5;124;43m\"\u001b[39;49m\u001b[38;5;124;43mNode name mismatch is found when \u001b[39;49m\u001b[38;5;130;43;01m\\\u001b[39;49;00m\n\u001b[1;32m    197\u001b[0m \u001b[38;5;124;43mloading quantization steps of tensors. \u001b[39;49m\u001b[38;5;130;43;01m\\\u001b[39;49;00m\n\u001b[1;32m    198\u001b[0m \u001b[38;5;124;43mPlease make sure Vai_q_pytorch version and pytorch version for test mode \u001b[39;49m\u001b[38;5;130;43;01m\\\u001b[39;49;00m\n\u001b[1;32m    199\u001b[0m \u001b[38;5;124;43mare the same as those in calibration (or QAT training) mode.\u001b[39;49m\u001b[38;5;124;43m\"\u001b[39;49m\u001b[43m,\u001b[49m\u001b[43m \u001b[49m\n\u001b[1;32m    200\u001b[0m \u001b[43m        \u001b[49m\u001b[38;5;129;43;01mnot\u001b[39;49;00m\u001b[43m \u001b[49m\u001b[38;5;28;43mself\u001b[39;49m\u001b[38;5;241;43m.\u001b[39;49m\u001b[43millegal_quant_info\u001b[49m\u001b[43m(\u001b[49m\u001b[43mquant_config\u001b[49m\u001b[43m,\u001b[49m\u001b[43m \u001b[49m\u001b[43mgraph\u001b[49m\u001b[43m)\u001b[49m\u001b[43m,\u001b[49m\u001b[43m \u001b[49m\u001b[43mexit_status\u001b[49m\u001b[38;5;241;43m=\u001b[39;49m\u001b[38;5;241;43m0\u001b[39;49m\u001b[43m)\u001b[49m\n\u001b[1;32m    201\u001b[0m   \u001b[38;5;28mself\u001b[39m\u001b[38;5;241m.\u001b[39m_QuantInfo \u001b[38;5;241m=\u001b[39m quant_config\n",
      "File \u001b[0;32m/opt/vitis_ai/conda/envs/vitis-ai-pytorch/lib/python3.8/site-packages/nndct_shared/utils/logging.py:307\u001b[0m, in \u001b[0;36mNndctScreenLogger.check2user\u001b[0;34m(self, code, msg, condition, exit_status)\u001b[0m\n\u001b[1;32m    305\u001b[0m \u001b[38;5;28;01mif\u001b[39;00m \u001b[38;5;129;01mnot\u001b[39;00m condition:\n\u001b[1;32m    306\u001b[0m   \u001b[38;5;28mself\u001b[39m\u001b[38;5;241m.\u001b[39merror2user(code, msg)\n\u001b[0;32m--> 307\u001b[0m   \u001b[43m_sys\u001b[49m\u001b[38;5;241;43m.\u001b[39;49m\u001b[43mexit\u001b[49m\u001b[43m(\u001b[49m\u001b[43mexit_status\u001b[49m\u001b[43m)\u001b[49m\n",
      "\u001b[0;31mSystemExit\u001b[0m: 0"
     ]
    }
   ],
   "source": [
    "%tb"
   ]
  }
 ],
 "metadata": {
  "kernelspec": {
   "display_name": "Python 3 (ipykernel)",
   "language": "python",
   "name": "python3"
  },
  "language_info": {
   "codemirror_mode": {
    "name": "ipython",
    "version": 3
   },
   "file_extension": ".py",
   "mimetype": "text/x-python",
   "name": "python",
   "nbconvert_exporter": "python",
   "pygments_lexer": "ipython3",
   "version": "3.8.6"
  }
 },
 "nbformat": 4,
 "nbformat_minor": 2
}
