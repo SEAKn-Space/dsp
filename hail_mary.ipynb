{
 "cells": [
  {
   "cell_type": "code",
   "execution_count": null,
   "id": "85948456-a15e-485e-a79e-93e6a18583fc",
   "metadata": {},
   "outputs": [],
   "source": [
    "import torch\n",
    "import torch.nn as nn\n",
    "\n",
    "class CNN1D_Adapted(nn.Module):\n",
    "    def __init__(self, num_classes):\n",
    "        super(CNN1D_Adapted, self).__init__()\n",
    "        \n",
    "        in_channels = 2\n",
    "        in_features = 128\n",
    "        \n",
    "        # Upsample (mimicking the ToyModel's approach but keeping in 1D context)\n",
    "        self.upsample = nn.Upsample(scale_factor=2, mode='linear')  # Changed to 'linear' for 1D\n",
    "        \n",
    "        # Define convolutional layers (similar to original CNN1D)\n",
    "        self.conv1 = nn.Conv1d(in_channels, 64, kernel_size=3, padding=1)\n",
    "        self.relu1 = nn.ReLU()\n",
    "        self.maxpool1 = nn.MaxPool1d(kernel_size=2)\n",
    "        \n",
    "        self.conv2 = nn.Conv1d(64, 128, kernel_size=3, padding=1)\n",
    "        self.relu2 = nn.ReLU()\n",
    "        self.maxpool2 = nn.MaxPool1d(kernel_size=2)\n",
    "        \n",
    "        # Adaptive pooling (1D version of ToyModel's 2D adaptive pooling)\n",
    "        self.adaptive_avg_pool1d = nn.AdaptiveAvgPool1d(output_size=1)\n",
    "        \n",
    "        # Define the fully connected layers (adjusted for adaptive pooling output)\n",
    "        self.fc1 = nn.Linear(128, 256)  # The input size changes due to adaptive pooling\n",
    "        self.relu3 = nn.ReLU()\n",
    "        self.fc2 = nn.Linear(256, num_classes)\n",
    "    \n",
    "    def forward(self, x):\n",
    "        # Upsample\n",
    "        x = self.upsample(x)\n",
    "        \n",
    "        # Convolutional layers\n",
    "        x = self.conv1(x)\n",
    "        x = self.relu1(x)\n",
    "        x = self.maxpool1(x)\n",
    "        \n",
    "        x = self.conv2(x)\n",
    "        x = self.relu2(x)\n",
    "        x = self.maxpool2(x)\n",
    "        \n",
    "        # Adaptive average pooling\n",
    "        x = self.adaptive_avg_pool1d(x)\n",
    "        \n",
    "        # Flatten (before fully connected layers)\n",
    "        x = x.view(x.size(0), -1)\n",
    "        \n",
    "        # Fully connected layers\n",
    "        x = self.fc1(x)\n",
    "        x = self.relu3(x)\n",
    "        x = self.fc2(x)\n",
    "        \n",
    "        return x\n"
   ]
  }
 ],
 "metadata": {
  "kernelspec": {
   "display_name": "Python 3 (ipykernel)",
   "language": "python",
   "name": "python3"
  },
  "language_info": {
   "codemirror_mode": {
    "name": "ipython",
    "version": 3
   },
   "file_extension": ".py",
   "mimetype": "text/x-python",
   "name": "python",
   "nbconvert_exporter": "python",
   "pygments_lexer": "ipython3",
   "version": "3.9.18"
  }
 },
 "nbformat": 4,
 "nbformat_minor": 5
}
