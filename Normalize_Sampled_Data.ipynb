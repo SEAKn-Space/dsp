{
 "cells": [
  {
   "cell_type": "code",
   "execution_count": 3,
   "id": "25c9b349-2f42-4b8f-b8d5-a1f64c5a5735",
   "metadata": {},
   "outputs": [],
   "source": [
    "# ====== Section 1: Imports and Setup ======\n",
    "# Standard library imports for data handling and machine learning.\n",
    "import pickle\n",
    "import pandas as pd\n",
    "import numpy as np\n",
    "import torch\n",
    "from torch.utils.data import Dataset, DataLoader"
   ]
  },
  {
   "cell_type": "code",
   "execution_count": 4,
   "id": "d42d3539-5048-4d23-956d-0443b85e086c",
   "metadata": {},
   "outputs": [],
   "source": [
    "# ====== Section 2: Data Loading and Preparation ======\n",
    "# Load dataset and ensure it is in proper format\n",
    "#data = "
   ]
  },
  {
   "cell_type": "code",
   "execution_count": 7,
   "id": "0c54e2d2-fcb2-4a71-b863-f7aa59a73add",
   "metadata": {},
   "outputs": [
    {
     "ename": "NameError",
     "evalue": "name 'data' is not defined",
     "output_type": "error",
     "traceback": [
      "\u001b[1;31m---------------------------------------------------------------------------\u001b[0m",
      "\u001b[1;31mNameError\u001b[0m                                 Traceback (most recent call last)",
      "Cell \u001b[1;32mIn[7], line 26\u001b[0m\n\u001b[0;32m     23\u001b[0m         \u001b[38;5;28;01mreturn\u001b[39;00m normalized_sample\n\u001b[0;32m     25\u001b[0m \u001b[38;5;66;03m# Initialize training and testing datasets and dataloaders.\u001b[39;00m\n\u001b[1;32m---> 26\u001b[0m dataset \u001b[38;5;241m=\u001b[39m NormDataset(\u001b[43mdata\u001b[49m)\n",
      "\u001b[1;31mNameError\u001b[0m: name 'data' is not defined"
     ]
    }
   ],
   "source": [
    "# ====== Section 3: Dataset and DataLoader Definition ======\n",
    "# Define a custom dataset class for loading the data.\n",
    "class NormDataset(Dataset):\n",
    "    def __init__(self, data):\n",
    "        self.data = data\n",
    "\n",
    "    def __len__(self):\n",
    "        return len(self.data)\n",
    "\n",
    "    def __getitem__(self, idx):\n",
    "         # access a single data sample and label\n",
    "        sample = self.data[idx]\n",
    "        \n",
    "        # Convert sample, min_vals, and max_vals to PyTorch tensors\n",
    "        sample = torch.tensor(sample, dtype=torch.float32)\n",
    "        min_vals = torch.tensor(sample.min(axis=1).values, dtype=torch.float32)\n",
    "        max_vals = torch.tensor(sample.max(axis=1).values, dtype=torch.float32)\n",
    "        \n",
    "        #normalize\n",
    "        epsilon = 1e-10\n",
    "        normalized_sample = 2 * (sample - min_vals.unsqueeze(1)) / (max_vals.unsqueeze(1) - min_vals.unsqueeze(1) + epsilon) - 1\n",
    "    \n",
    "        return normalized_sample\n",
    "\n",
    "# Initialize training and testing datasets and dataloaders.\n",
    "dataset = NormDataset(data)\n",
    "\n"
   ]
  },
  {
   "cell_type": "code",
   "execution_count": null,
   "id": "77999c90-df52-480d-81a2-042401302ceb",
   "metadata": {},
   "outputs": [],
   "source": []
  }
 ],
 "metadata": {
  "kernelspec": {
   "display_name": "Python 3 (ipykernel)",
   "language": "python",
   "name": "python3"
  },
  "language_info": {
   "codemirror_mode": {
    "name": "ipython",
    "version": 3
   },
   "file_extension": ".py",
   "mimetype": "text/x-python",
   "name": "python",
   "nbconvert_exporter": "python",
   "pygments_lexer": "ipython3",
   "version": "3.8.6"
  }
 },
 "nbformat": 4,
 "nbformat_minor": 5
}
