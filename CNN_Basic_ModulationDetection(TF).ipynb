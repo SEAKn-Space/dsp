{
 "cells": [
  {
   "cell_type": "code",
   "execution_count": 1,
   "id": "61956280",
   "metadata": {},
   "outputs": [
    {
     "name": "stderr",
     "output_type": "stream",
     "text": [
      "/Users/meesh/Library/Python/3.9/lib/python/site-packages/urllib3/__init__.py:34: NotOpenSSLWarning: urllib3 v2 only supports OpenSSL 1.1.1+, currently the 'ssl' module is compiled with 'LibreSSL 2.8.3'. See: https://github.com/urllib3/urllib3/issues/3020\n",
      "  warnings.warn(\n"
     ]
    },
    {
     "name": "stdout",
     "output_type": "stream",
     "text": [
      "Epoch 1/10\n",
      "50/50 [==============================] - 0s 2ms/step - loss: 0.6935 - accuracy: 0.4781\n",
      "Epoch 2/10\n",
      "50/50 [==============================] - 0s 2ms/step - loss: 0.6934 - accuracy: 0.4863\n",
      "Epoch 3/10\n",
      "50/50 [==============================] - 0s 2ms/step - loss: 0.6935 - accuracy: 0.4994\n",
      "Epoch 4/10\n",
      "50/50 [==============================] - 0s 2ms/step - loss: 0.6934 - accuracy: 0.4844\n",
      "Epoch 5/10\n",
      "50/50 [==============================] - 0s 2ms/step - loss: 0.6932 - accuracy: 0.4875\n",
      "Epoch 6/10\n",
      "50/50 [==============================] - 0s 2ms/step - loss: 0.6932 - accuracy: 0.4944\n",
      "Epoch 7/10\n",
      "50/50 [==============================] - 0s 2ms/step - loss: 0.6932 - accuracy: 0.4806\n",
      "Epoch 8/10\n",
      "50/50 [==============================] - 0s 2ms/step - loss: 0.6932 - accuracy: 0.4938\n",
      "Epoch 9/10\n",
      "50/50 [==============================] - 0s 2ms/step - loss: 0.6932 - accuracy: 0.5006\n",
      "Epoch 10/10\n",
      "50/50 [==============================] - 0s 2ms/step - loss: 0.6932 - accuracy: 0.4981\n",
      "13/13 [==============================] - 0s 974us/step - loss: 0.6932 - accuracy: 0.4975\n",
      "Test Loss: 0.6931576728820801 \n",
      "Test Accuracy: 0.4975000023841858\n"
     ]
    }
   ],
   "source": [
    "import tensorflow as tf\n",
    "from tensorflow.keras.utils import to_categorical\n",
    "from sklearn.model_selection import train_test_split\n",
    "import pandas as pd\n",
    "import numpy as np\n",
    "import pickle as pkl\n",
    "\n",
    "# load data\n",
    "data = pd.read_pickle(\"RML2016.10a_dict.pkl\", compression='infer')\n",
    "qpsk_2_data_all = data[('QPSK', 2)]\n",
    "bpsk_2_data_all = data[('BPSK', 2)]\n",
    "\n",
    "# labels\n",
    "qpsk_labels = [0] * 1000  # QPSK = 0\n",
    "bpsk_labels = [1] * 1000  # BPSK = 1\n",
    "\n",
    "# combine the data lables\n",
    "data_combined = np.concatenate((qpsk_2_data_all, bpsk_2_data_all), axis=0)\n",
    "\n",
    "# combine the data lables\n",
    "data_combined = np.concatenate((qpsk_2_data_all, bpsk_2_data_all), axis=0)\n",
    "labels_combined = qpsk_labels + bpsk_labels\n",
    "\n",
    "# convert labels to NumPy array and then to PyTorch tensor with Long data type\n",
    "labels_combined = np.array(labels_combined, dtype=np.int64)\n",
    "\n",
    "# Create training data\n",
    "X_train, X_test, y_train, y_test = train_test_split(\n",
    "    data_combined, labels_combined, test_size=.2, random_state=42)\n",
    "\n",
    "# create the model\n",
    "model = tf.keras.Sequential([\n",
    "    tf.keras.layers.Input(shape=(2, 128)),  # Transpose the shape to (None, 128, 2)\n",
    "    tf.keras.layers.Permute((2, 1)),  # Transpose the input data\n",
    "    tf.keras.layers.Conv1D(filters=64, kernel_size=3, strides=1, padding='same', activation='relu'),\n",
    "    tf.keras.layers.MaxPool1D(pool_size=2, strides=2, padding='same'),\n",
    "    tf.keras.layers.Conv1D(filters=64, kernel_size=3, strides=1, padding='same', activation='relu'),\n",
    "    tf.keras.layers.MaxPool1D(pool_size=2, strides=2, padding='same'),\n",
    "    tf.keras.layers.Conv1D(filters=64, kernel_size=3, strides=1, padding='same', activation='relu'),\n",
    "    tf.keras.layers.MaxPool1D(pool_size=2, strides=2, padding='same'),\n",
    "    tf.keras.layers.Flatten(),\n",
    "    tf.keras.layers.Dense(2, activation='softmax')\n",
    "])\n",
    "\n",
    "# compile the model\n",
    "model.compile(optimizer='adam', loss='categorical_crossentropy', metrics=['accuracy'])\n",
    "\n",
    "# train the model\n",
    "epochs = 10\n",
    "model.fit(X_train, to_categorical(y_train), epochs=epochs)\n",
    "\n",
    "# evaluate the model\n",
    "results = model.evaluate(X_test, to_categorical(y_test))\n",
    "\n",
    "# print results\n",
    "print(f'Test Loss: {results[0]} \\nTest Accuracy: {results[1]}')\n"
   ]
  }
 ],
 "metadata": {
  "kernelspec": {
   "display_name": "Python 3 (ipykernel)",
   "language": "python",
   "name": "python3"
  },
  "language_info": {
   "codemirror_mode": {
    "name": "ipython",
    "version": 3
   },
   "file_extension": ".py",
   "mimetype": "text/x-python",
   "name": "python",
   "nbconvert_exporter": "python",
   "pygments_lexer": "ipython3",
   "version": "3.9.6"
  }
 },
 "nbformat": 4,
 "nbformat_minor": 5
}
